{
 "cells": [
  {
   "cell_type": "code",
   "execution_count": 1,
   "metadata": {
    "collapsed": true
   },
   "outputs": [],
   "source": [
    "import torch\n",
    "from torch import nn\n",
    "from torch.autograd import Variable\n",
    "from torch.optim import SGD"
   ]
  },
  {
   "cell_type": "markdown",
   "metadata": {},
   "source": [
    "# Model\n",
    "Here we define a linear model ''y=kx+b'' "
   ]
  },
  {
   "cell_type": "code",
   "execution_count": 2,
   "metadata": {
    "collapsed": true
   },
   "outputs": [],
   "source": [
    "# Define Model\n",
    "class myLinear(nn.Module):\n",
    "    def __init__(self):\n",
    "        super(myLinear, self).__init__()\n",
    "        \n",
    "        self.linear = nn.Linear(1,1)\n",
    "    def forward(self,x):\n",
    "        y = self.linear(x)\n",
    "        storch_y = Variable(torch.zeros(1)).cuda()\n",
    "        storch_y = y\n",
    "        return storch_y"
   ]
  },
  {
   "cell_type": "markdown",
   "metadata": {},
   "source": [
    "# Data\n",
    "We use y = 3*x +0 to be what we want model to learn"
   ]
  },
  {
   "cell_type": "code",
   "execution_count": 3,
   "metadata": {},
   "outputs": [
    {
     "name": "stdout",
     "output_type": "stream",
     "text": [
      "input: [0, 1, 2, 3, 4, 5, 6, 7, 8, 9, 10, 11, 12, 13, 14, 15, 16, 17, 18, 19]\n",
      "target: [0, 3, 6, 9, 12, 15, 18, 21, 24, 27, 30, 33, 36, 39, 42, 45, 48, 51, 54, 57]\n"
     ]
    }
   ],
   "source": [
    "# Define data\n",
    "x = [i for i in range(20)]\n",
    "y = list(map(lambda x: x*3,x))\n",
    "\n",
    "inputdata = Variable(torch.Tensor(x))\n",
    "target = Variable(torch.Tensor(y))\n",
    "if torch.cuda.is_available():\n",
    "    inputdata = inputdata.cuda()\n",
    "    target = target.cuda()\n",
    "print(\"input:\",x)\n",
    "print(\"target:\",y)"
   ]
  },
  {
   "cell_type": "markdown",
   "metadata": {},
   "source": [
    "Here we use mean square loss and SGD"
   ]
  },
  {
   "cell_type": "code",
   "execution_count": 4,
   "metadata": {
    "collapsed": true
   },
   "outputs": [],
   "source": [
    "# start training \n",
    "criterion = nn.MSELoss()\n",
    "model= myLinear()\n",
    "if torch.cuda.is_available():\n",
    "    model =model.cuda()\n",
    "# Use optimezer SGD\n",
    "optimizer = SGD(model.parameters(), 0.1)"
   ]
  },
  {
   "cell_type": "code",
   "execution_count": 5,
   "metadata": {},
   "outputs": [
    {
     "data": {
      "text/plain": [
       "torch.Size([20])"
      ]
     },
     "execution_count": 5,
     "metadata": {},
     "output_type": "execute_result"
    }
   ],
   "source": [
    "target.shape"
   ]
  },
  {
   "cell_type": "code",
   "execution_count": 6,
   "metadata": {},
   "outputs": [
    {
     "data": {
      "text/plain": [
       "Variable containing:\n",
       " 1\n",
       "[torch.cuda.FloatTensor of size 1 (GPU 0)]"
      ]
     },
     "execution_count": 6,
     "metadata": {},
     "output_type": "execute_result"
    }
   ],
   "source": [
    "inputdata[1]"
   ]
  },
  {
   "cell_type": "code",
   "execution_count": 7,
   "metadata": {},
   "outputs": [
    {
     "name": "stdout",
     "output_type": "stream",
     "text": [
      "pre:\n",
      " 0.2110\n",
      "[torch.cuda.FloatTensor of size 1x1 (GPU 0)]\n",
      "\n",
      "target:\n",
      " 3\n",
      "[torch.cuda.FloatTensor of size 1 (GPU 0)]\n",
      "\n",
      "loss:\n",
      " 7.7787\n",
      "[torch.cuda.FloatTensor of size 1 (GPU 0)]\n",
      "\n",
      "weight:\n",
      " 0.6629\n",
      "[torch.cuda.FloatTensor of size 1x1 (GPU 0)]\n",
      "\n",
      "grad:\n",
      "-5.5781\n",
      "[torch.cuda.FloatTensor of size 1x1 (GPU 0)]\n",
      ",\n",
      "calculcate: \n",
      " 1.2207\n",
      "[torch.cuda.FloatTensor of size 1x1 (GPU 0)]\n",
      "\n",
      "Step: \n",
      " 1.2207\n",
      "[torch.cuda.FloatTensor of size 1x1 (GPU 0)]\n",
      "\n"
     ]
    }
   ],
   "source": [
    "loss_ls = []\n",
    "for i in range(1):\n",
    "    pre = model(inputdata[1].view(1,1).float())\n",
    "    loss = criterion(pre,target[1].float())\n",
    "    loss_ls.append(loss.mean().data[0])\n",
    "    \n",
    "    # clear gradient\n",
    "    optimizer.zero_grad()\n",
    "    # caculate gradient\n",
    "    loss.backward()\n",
    "    \n",
    "    message= \"pre:{}\\ntarget:{}\\nloss:{}\\nweight:{}\\ngrad:{},\".format(pre.data,target[1].data,loss.data,model.linear.weight.data,model.linear.weight.grad.data)\n",
    "    print(message)\n",
    "    # weight = weight - learning_rate * gradient\n",
    "    print(\"calculcate:\",model.linear.weight.data[0] - (model.linear.weight.grad.data)*0.1)\n",
    "    # Updating parameters by calling step\n",
    "    optimizer.step()\n",
    "    # This is caculate by optimizer.step\n",
    "    print(\"Step:\",model.linear.weight.data)\n",
    "\n",
    "    "
   ]
  },
  {
   "cell_type": "code",
   "execution_count": null,
   "metadata": {
    "collapsed": true
   },
   "outputs": [],
   "source": []
  }
 ],
 "metadata": {
  "kernelspec": {
   "display_name": "Python3(gpu)",
   "language": "python",
   "name": "tensorflow-gpu"
  },
  "language_info": {
   "codemirror_mode": {
    "name": "ipython",
    "version": 3
   },
   "file_extension": ".py",
   "mimetype": "text/x-python",
   "name": "python",
   "nbconvert_exporter": "python",
   "pygments_lexer": "ipython3",
   "version": "3.6.2"
  },
  "toc": {
   "nav_menu": {},
   "number_sections": true,
   "sideBar": true,
   "skip_h1_title": false,
   "toc_cell": false,
   "toc_position": {},
   "toc_section_display": "block",
   "toc_window_display": false
  }
 },
 "nbformat": 4,
 "nbformat_minor": 2
}
